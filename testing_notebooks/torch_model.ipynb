{
 "cells": [
  {
   "cell_type": "code",
   "execution_count": null,
   "metadata": {},
   "outputs": [],
   "source": [
    "\n",
    "import os\n",
    "import numpy as np\n",
    "import pandas as pd\n",
    "import seaborn as sns\n",
    "import matplotlib.pyplot as plt\n",
    "\n",
    "running_dir = r\"/Users/4JStudent/Desktop/Code/Bens_Tetris_Regression\""
   ]
  },
  {
   "cell_type": "code",
   "execution_count": null,
   "metadata": {},
   "outputs": [],
   "source": [
    "## Dataloading\n",
    "df = pd.read_csv (os.path.join(running_dir, \"sprint_data.csv\"))\n",
    "df.columns = df.columns.str.lower()\n",
    "df[\"normalized_pps\"] = df[\"approxpps\"].map (lambda x: 1 / (1 + np.exp(-x)))\n",
    "\n",
    "df.head()"
   ]
  },
  {
   "cell_type": "code",
   "execution_count": null,
   "metadata": {},
   "outputs": [],
   "source": [
    "import torch\n",
    "import torch.nn as nn\n",
    "class RegressionModel (nn.Module):\n",
    "  def __init__ (self, param_names: list):\n",
    "    super ().__init__()\n",
    "    self.initialize_weights(len(param_names))\n",
    "    self.layer = nn.Linear (1, 1)\n",
    "\n",
    "    # Paramaters\n",
    "    exec (\n",
    "      \", \".join(f\"self.{name}\" for name in param_names) + ' = ' + \n",
    "      \", \".join(\n",
    "        [\n",
    "          f'nn.Parameter(self.weights[{i}])' \n",
    "          for i in range (len(param_names))\n",
    "          ]\n",
    "      )\n",
    "    )\n",
    "\n",
    "  # Weights\n",
    "  def initialize_weights (self, n):\n",
    "    self.weights = [nn.init.uniform (torch.empty (1)) for i in range (n)]\n",
    "\n",
    "  # Function\n",
    "  def forward (self, x):\n",
    "    return self.a * x + self.b\n",
    "    # return self.layer (x)\n",
    "\n",
    "    "
   ]
  },
  {
   "cell_type": "code",
   "execution_count": null,
   "metadata": {},
   "outputs": [],
   "source": [
    "\n",
    "params = [\"a\", \"b\", \"c\"]\n",
    "model = RegressionModel (params)\n",
    "\n",
    "optimizer = torch.optim.Adam (model.parameters(), lr=0.2)\n",
    "criterion = nn.L1Loss()\n",
    "\n",
    "def plot_regression (df, model, min_scale=0, max_scale=10):\n",
    "  sns.set_theme()\n",
    "  sns.scatterplot (df, x=\"ln(days)\", y=\"ln(pps)\", s=5)\n",
    "\n",
    "  xModel = torch.linspace(min_scale, max_scale, steps=500)\n",
    "  yModel = model(xModel)\n",
    "  # print (yModel)\n",
    "\n",
    "  plt.plot(xModel.detach(), yModel.detach())\n",
    "  plt.show()\n",
    "  plt.close('all')\n",
    "\n",
    "def train_regression (model, data, epochs=1, optimizer=None, criterion=None):\n",
    "    for i in tqdm(range (epochs)):\n",
    "      x, y = torch.unsqueeze(data[0], 1), torch.unsqueeze(data[1], 1)\n",
    "      # for x, y in zip(x_data, y_data):      \n",
    "        # print (f\"{x.shape=} {y.shape=}\")\n",
    "        # print (f\"{x=} {y=}\")\n",
    "      y_pred = model(x.type (torch.DoubleTensor))\n",
    "      loss = criterion(y_pred, y)\n",
    "      optimizer.zero_grad()\n",
    "      loss.backward()\n",
    "      optimizer.step()\n",
    "\n",
    "\n",
    "xData, yData = torch.tensor(df[\"ln(days)\"]), torch.tensor(df[\"ln(pps)\"])\n",
    "plot_regression (df, model, min(xData), max(xData))\n",
    "train_regression (model, (xData, yData), epochs=40, optimizer=optimizer, criterion=criterion)\n",
    "plot_regression (df, model, min(xData), max(xData))\n"
   ]
  },
  {
   "cell_type": "code",
   "execution_count": null,
   "metadata": {},
   "outputs": [],
   "source": []
  }
 ],
 "metadata": {
  "kernelspec": {
   "display_name": "Python 3.10.6 64-bit (microsoft store)",
   "language": "python",
   "name": "python3"
  },
  "language_info": {
   "codemirror_mode": {
    "name": "ipython",
    "version": 3
   },
   "file_extension": ".py",
   "mimetype": "text/x-python",
   "name": "python",
   "nbconvert_exporter": "python",
   "pygments_lexer": "ipython3",
   "version": "3.10.6"
  },
  "orig_nbformat": 4,
  "vscode": {
   "interpreter": {
    "hash": "abb28fd1d7431144c73c9b6e36d3d8b55428cbac4336a7216572d74924205ca7"
   }
  }
 },
 "nbformat": 4,
 "nbformat_minor": 2
}
