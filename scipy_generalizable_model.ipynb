{
 "cells": [
  {
   "cell_type": "code",
   "execution_count": 1,
   "metadata": {},
   "outputs": [],
   "source": [
    "import os\n",
    "import numpy as np\n",
    "import pandas as pd\n",
    "import seaborn as sns\n",
    "import matplotlib.pyplot as plt\n",
    "from scipy.optimize import curve_fit\n",
    "\n",
    "RUNNING_DIR = r\"c:\\\\Users\\\\micha\\\\Downloads\\\\Bens_Tetris_Regression\""
   ]
  },
  {
   "cell_type": "code",
   "execution_count": 2,
   "metadata": {},
   "outputs": [],
   "source": [
    "def load_data (path):\n",
    "    df = pd.read_csv (path)\n",
    "    df.columns = df.columns.str.lower()\n",
    "    df.dropna(inplace=True)\n",
    "    \n",
    "    return df\n",
    "\n",
    "def non_linear_regression (func, xData, yData):\n",
    "    popt, pcov = curve_fit(\n",
    "        func, \n",
    "        xData, \n",
    "        yData,\n",
    "        bounds=(-1000, [1000.,  1000.,  1000. ]),\n",
    "        check_finite=True,\n",
    "        maxfev=10000,\n",
    "    )\n",
    "    \n",
    "    \n",
    "    return popt\n",
    "\n",
    "def plot_regression (func, xData, yData, popt):\n",
    "    sns.set_theme()\n",
    "    plt.scatter (xData, yData, s=3, label='data', edgecolors=\"#146fa3\", linewidths=1, alpha=0.5)\n",
    "\n",
    "    xModel = np.linspace (min(xData), max(xData), 250)\n",
    "    yModel = func (xModel, *popt)\n",
    "    plt.plot(\n",
    "        xModel, yModel, 'r-',\n",
    "        label='fit: a=%5.3f, b=%5.3f, c=%5.3f' % tuple(popt))\n",
    "\n",
    "    plt.legend()\n",
    "    plt.show()\n",
    "    \n",
    "def calculate_metrics (func, xData, yData, popt):\n",
    "    AE = (func(xData, *popt)) - yData\n",
    "    SE = np.square(AE) \n",
    "    MSE = np.mean(SE) \n",
    "    RMSE = np.sqrt(MSE) \n",
    "    Rsquared = 1.0 - (np.var(AE) / np.var(yData))\n",
    "    print(f\"{RMSE=}\")\n",
    "    print(f\"{Rsquared=}\")\n",
    "    "
   ]
  },
  {
   "cell_type": "code",
   "execution_count": 3,
   "metadata": {},
   "outputs": [
    {
     "data": {
      "text/plain": [
       "array([-6.65361311e-03,  4.64390028e+00,  3.40215412e+01])"
      ]
     },
     "execution_count": 3,
     "metadata": {},
     "output_type": "execute_result"
    }
   ],
   "source": [
    "func = lambda x, a, b, c: np.e**(a*x+b)+c\n",
    "df = load_data (os.path.join(RUNNING_DIR, \"sprint_data.csv\"))\n",
    "params = non_linear_regression (\n",
    "    func,\n",
    "    df[\"dayssincestart\"], \n",
    "    df[\"timescorekaiyon\"]\n",
    ")\n",
    "plot_regression(\n",
    "    func, \n",
    "    df[\"dayssincestart\"], \n",
    "    df[\"timescorekaiyon\"],\n",
    "    params\n",
    ")"
   ]
  },
  {
   "cell_type": "code",
   "execution_count": null,
   "metadata": {},
   "outputs": [],
   "source": [
    "def main (data_path, func, xData, yData):\n",
    "    df = load_data (os.path.join(RUNNING_DIR, data_path))\n",
    "    params = non_linear_regression (\n",
    "        func, xData, yData\n",
    "    )\n",
    "    \n",
    "    plot_regression(\n",
    "        func, xData, yData, params\n",
    "    )\n",
    "    \n",
    "    calculate_metrics(\n",
    "        func, xData, yData, params\n",
    "    )\n",
    "    "
   ]
  },
  {
   "cell_type": "code",
   "execution_count": null,
   "metadata": {},
   "outputs": [],
   "source": [
    "main (\n",
    "    \"sprint_data.csv\", \n",
    "    lambda x, a, b, c: np.e**(a*x+b)+c, \n",
    "    df[\"dayssincestart\"], \n",
    "    df[\"timescorekaiyon\"]\n",
    ")"
   ]
  }
 ],
 "metadata": {
  "kernelspec": {
   "display_name": "Python 3.10.6 64-bit (microsoft store)",
   "language": "python",
   "name": "python3"
  },
  "language_info": {
   "codemirror_mode": {
    "name": "ipython",
    "version": 3
   },
   "file_extension": ".py",
   "mimetype": "text/x-python",
   "name": "python",
   "nbconvert_exporter": "python",
   "pygments_lexer": "ipython3",
   "version": "3.10.6"
  },
  "orig_nbformat": 4,
  "vscode": {
   "interpreter": {
    "hash": "abb28fd1d7431144c73c9b6e36d3d8b55428cbac4336a7216572d74924205ca7"
   }
  }
 },
 "nbformat": 4,
 "nbformat_minor": 2
}
